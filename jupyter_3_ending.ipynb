{
 "cells": [
  {
   "cell_type": "markdown",
   "metadata": {},
   "source": [
    "# Jupyter - further info\n",
    "\n",
    "* Part 1: [Introduction (and Python)](./jupyter_1_intro.ipynb)\n",
    "* Part 2: [R](./jupyter_2_r.ipynb)\n",
    "* **Part 3: [Ending](./jupyter_3_ending.ipynb)**\n",
    "\n",
    "Piotr Migdał, http://migdal.wikidot.com/\n",
    "\n",
    "[10 spotkanie Data Science Warsaw](http://www.meetup.com/Data-Science-Warsaw/events/228027529/), Warsaw (Poland), 19 Jan 2016"
   ]
  },
  {
   "cell_type": "markdown",
   "metadata": {},
   "source": [
    "## My experience\n",
    "\n",
    "### Part of my typical workflow\n",
    "\n",
    "\n",
    "### [Python and Spark training by DeepSense.io, San Francisco](http://workshops.deepsense.io/)\n",
    "\n",
    "![](imgs/deepsense_sf_screen.jpg)\n",
    "\n",
    "### [DELab UW - szkoła letnia analizy danych](https://github.com/DELabUW/szkola-letnia-2015)\n",
    "\n",
    "![](imgs/delab_szkola_projekt.jpg)\n",
    "\n",
    "### [Analiza danych maturalnych](https://github.com/stared/delab-matury)\n",
    "\n",
    "![](imgs/matury_ipython_r.png)\n",
    "\n"
   ]
  },
  {
   "cell_type": "markdown",
   "metadata": {},
   "source": [
    "## Examples\n",
    "\n",
    "Since May 2015 GitHub displays notebook content!\n",
    "\n",
    "* https://github.com/DELabUW/szkola-letnia-2015\n",
    "    * https://github.com/DELabUW/szkola-letnia-2015/blob/master/zajecia/deser_r_ggplot.ipynb\n",
    "* https://github.com/lmart999/GIS/blob/master/SF_GIS_Crime.ipynb\n",
    "* https://github.com/google/deepdream/blob/master/dream.ipynb"
   ]
  },
  {
   "cell_type": "markdown",
   "metadata": {},
   "source": [
    "## Installation\n",
    "\n",
    "There are many ways to install Jupyter.  The easiest way (and working on Win, OS X and Linux) is:\n",
    "\n",
    "* install Python with Anaconda distribution (https://www.continuum.io/downloads)\n",
    "* run (`$ jupyter notebook`)\n",
    "\n",
    "And if you want to run **R**:\n",
    "\n",
    "* install R with conda (`$ conda install -c r r-essentials`)\n",
    "\n",
    "More info: https://www.continuum.io/blog/developer/jupyter-and-conda-r"
   ]
  },
  {
   "cell_type": "markdown",
   "metadata": {},
   "source": [
    "## Trying\n",
    "\n",
    "Still not sure? You can **[try.jupyter.org](https://try.jupyter.org/)** online!\n",
    "\n",
    "![](imgs/try_jupyter.png)"
   ]
  },
  {
   "cell_type": "markdown",
   "metadata": {},
   "source": [
    "## Questions?\n",
    "\n",
    "Piotr Migdał, http://p.migdal.pl, pmigdal@gmail.com"
   ]
  },
  {
   "cell_type": "code",
   "execution_count": null,
   "metadata": {
    "collapsed": true
   },
   "outputs": [],
   "source": []
  }
 ],
 "metadata": {
  "kernelspec": {
   "display_name": "IPython (Python 3)",
   "language": "python",
   "name": "python3"
  },
  "language_info": {
   "codemirror_mode": {
    "name": "ipython",
    "version": 3
   },
   "file_extension": ".py",
   "mimetype": "text/x-python",
   "name": "python",
   "nbconvert_exporter": "python",
   "pygments_lexer": "ipython3",
   "version": "3.4.3"
  }
 },
 "nbformat": 4,
 "nbformat_minor": 0
}
